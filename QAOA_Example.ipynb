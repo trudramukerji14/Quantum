{
  "nbformat": 4,
  "nbformat_minor": 0,
  "metadata": {
    "colab": {
      "provenance": [],
      "authorship_tag": "ABX9TyPg7fY43YmCVl10wwbsi8h1",
      "include_colab_link": true
    },
    "kernelspec": {
      "name": "python3",
      "display_name": "Python 3"
    },
    "language_info": {
      "name": "python"
    }
  },
  "cells": [
    {
      "cell_type": "markdown",
      "metadata": {
        "id": "view-in-github",
        "colab_type": "text"
      },
      "source": [
        "<a href=\"https://colab.research.google.com/github/trudramukerji14/Random/blob/master/QAOA_Example.ipynb\" target=\"_parent\"><img src=\"https://colab.research.google.com/assets/colab-badge.svg\" alt=\"Open In Colab\"/></a>"
      ]
    },
    {
      "cell_type": "markdown",
      "source": [
        "The following is a quick example of QAOA with Pennylane. This is modified from the tutorial on Pennylane."
      ],
      "metadata": {
        "id": "E4SxX4AodBKC"
      }
    },
    {
      "cell_type": "code",
      "execution_count": 1,
      "metadata": {
        "colab": {
          "base_uri": "https://localhost:8080/"
        },
        "id": "M0hDJzxZCDBu",
        "outputId": "fbf21638-61c2-40cf-d6c8-77696bb002ec"
      },
      "outputs": [
        {
          "output_type": "stream",
          "name": "stdout",
          "text": [
            "Looking in indexes: https://pypi.org/simple, https://us-python.pkg.dev/colab-wheels/public/simple/\n",
            "Collecting pennylane\n",
            "  Downloading PennyLane-0.28.0-py3-none-any.whl (1.3 MB)\n",
            "\u001b[2K     \u001b[90m━━━━━━━━━━━━━━━━━━━━━━━━━━━━━━━━━━━━━━━━\u001b[0m \u001b[32m1.3/1.3 MB\u001b[0m \u001b[31m12.9 MB/s\u001b[0m eta \u001b[36m0:00:00\u001b[0m\n",
            "\u001b[?25hRequirement already satisfied: numpy<1.24 in /usr/local/lib/python3.8/dist-packages (from pennylane) (1.21.6)\n",
            "Collecting retworkx\n",
            "  Downloading retworkx-0.12.1-py3-none-any.whl (10 kB)\n",
            "Collecting pennylane-lightning>=0.28\n",
            "  Downloading PennyLane_Lightning-0.28.1-cp38-cp38-manylinux_2_17_x86_64.manylinux2014_x86_64.whl (15.3 MB)\n",
            "\u001b[2K     \u001b[90m━━━━━━━━━━━━━━━━━━━━━━━━━━━━━━━━━━━━━━━━\u001b[0m \u001b[32m15.3/15.3 MB\u001b[0m \u001b[31m23.3 MB/s\u001b[0m eta \u001b[36m0:00:00\u001b[0m\n",
            "\u001b[?25hRequirement already satisfied: toml in /usr/local/lib/python3.8/dist-packages (from pennylane) (0.10.2)\n",
            "Collecting semantic-version>=2.7\n",
            "  Downloading semantic_version-2.10.0-py2.py3-none-any.whl (15 kB)\n",
            "Collecting autoray>=0.3.1\n",
            "  Downloading autoray-0.5.3-py3-none-any.whl (39 kB)\n",
            "Requirement already satisfied: networkx in /usr/local/lib/python3.8/dist-packages (from pennylane) (3.0)\n",
            "Requirement already satisfied: requests in /usr/local/lib/python3.8/dist-packages (from pennylane) (2.25.1)\n",
            "Requirement already satisfied: appdirs in /usr/local/lib/python3.8/dist-packages (from pennylane) (1.4.4)\n",
            "Requirement already satisfied: autograd in /usr/local/lib/python3.8/dist-packages (from pennylane) (1.5)\n",
            "Requirement already satisfied: cachetools in /usr/local/lib/python3.8/dist-packages (from pennylane) (5.2.1)\n",
            "Requirement already satisfied: scipy in /usr/local/lib/python3.8/dist-packages (from pennylane) (1.7.3)\n",
            "Collecting ninja\n",
            "  Downloading ninja-1.11.1-py2.py3-none-manylinux_2_12_x86_64.manylinux2010_x86_64.whl (145 kB)\n",
            "\u001b[2K     \u001b[90m━━━━━━━━━━━━━━━━━━━━━━━━━━━━━━━━━━━━━━━\u001b[0m \u001b[32m146.0/146.0 KB\u001b[0m \u001b[31m6.0 MB/s\u001b[0m eta \u001b[36m0:00:00\u001b[0m\n",
            "\u001b[?25hRequirement already satisfied: future>=0.15.2 in /usr/local/lib/python3.8/dist-packages (from autograd->pennylane) (0.16.0)\n",
            "Requirement already satisfied: certifi>=2017.4.17 in /usr/local/lib/python3.8/dist-packages (from requests->pennylane) (2022.12.7)\n",
            "Requirement already satisfied: chardet<5,>=3.0.2 in /usr/local/lib/python3.8/dist-packages (from requests->pennylane) (4.0.0)\n",
            "Requirement already satisfied: urllib3<1.27,>=1.21.1 in /usr/local/lib/python3.8/dist-packages (from requests->pennylane) (1.24.3)\n",
            "Requirement already satisfied: idna<3,>=2.5 in /usr/local/lib/python3.8/dist-packages (from requests->pennylane) (2.10)\n",
            "Collecting rustworkx==0.12.1\n",
            "  Downloading rustworkx-0.12.1-cp38-cp38-manylinux_2_17_x86_64.manylinux2014_x86_64.whl (1.9 MB)\n",
            "\u001b[2K     \u001b[90m━━━━━━━━━━━━━━━━━━━━━━━━━━━━━━━━━━━━━━━━\u001b[0m \u001b[32m1.9/1.9 MB\u001b[0m \u001b[31m23.6 MB/s\u001b[0m eta \u001b[36m0:00:00\u001b[0m\n",
            "\u001b[?25hInstalling collected packages: ninja, semantic-version, rustworkx, autoray, retworkx, pennylane-lightning, pennylane\n",
            "Successfully installed autoray-0.5.3 ninja-1.11.1 pennylane-0.28.0 pennylane-lightning-0.28.1 retworkx-0.12.1 rustworkx-0.12.1 semantic-version-2.10.0\n"
          ]
        }
      ],
      "source": [
        "!pip install pennylane"
      ]
    },
    {
      "cell_type": "code",
      "source": [
        "import pennylane as qml\n",
        "from pennylane import numpy as np\n",
        "\n",
        "np.random.seed(42)\n"
      ],
      "metadata": {
        "id": "Br01zg8KFLpM"
      },
      "execution_count": 2,
      "outputs": []
    },
    {
      "cell_type": "code",
      "source": [
        "n_wires = 5\n",
        "graph = [(0, 1), (0, 4), (1, 2), (1,4), (2, 3), (3,4)]\n",
        "\n",
        "# unitary operator U_B with parameter beta\n",
        "def U_B(beta):\n",
        "    for wire in range(n_wires):\n",
        "        qml.RX(2 * beta, wires=wire) #adds rotation RX gate to each wire\n",
        "\n",
        "\n",
        "# unitary operator U_C with parameter gamma\n",
        "def U_C(gamma):\n",
        "    for edge in graph:\n",
        "        wire1 = edge[0]\n",
        "        wire2 = edge[1]\n",
        "        qml.CNOT(wires=[wire1, wire2])\n",
        "        qml.RZ(gamma, wires=wire2)\n",
        "        qml.CNOT(wires=[wire1, wire2])"
      ],
      "metadata": {
        "id": "PwibWehQCK3q"
      },
      "execution_count": 3,
      "outputs": []
    },
    {
      "cell_type": "code",
      "source": [
        "def bitstring_to_int(bit_string_sample):\n",
        "    bit_string = \"\".join(str(bs) for bs in bit_string_sample)\n",
        "    return int(bit_string, base=2)\n"
      ],
      "metadata": {
        "id": "mPZM-zRkFTkl"
      },
      "execution_count": 4,
      "outputs": []
    },
    {
      "cell_type": "code",
      "source": [
        "dev = qml.device(\"default.qubit\", wires=n_wires, shots=1)"
      ],
      "metadata": {
        "id": "u2XmiXcTFasq"
      },
      "execution_count": 5,
      "outputs": []
    },
    {
      "cell_type": "code",
      "source": [
        "@qml.qnode(dev)\n",
        "def circuit(gammas, betas, edge=None, n_layers=1):\n",
        "    # apply Hadamards to get the n qubit |+> state\n",
        "    for wire in range(n_wires):\n",
        "        qml.Hadamard(wires=wire)\n",
        "    # p instances of unitary operators\n",
        "    for i in range(n_layers):\n",
        "        U_C(gammas[i])\n",
        "        U_B(betas[i])\n",
        "    if edge is None:\n",
        "        # measurement phase\n",
        "        return qml.sample()\n",
        "    # during the optimization phase we are evaluating a term\n",
        "    # in the objective using expval\n",
        "    H = qml.PauliZ(edge[0]) @ qml.PauliZ(edge[1])\n",
        "    return qml.expval(H)\n"
      ],
      "metadata": {
        "id": "dfrAEBwsFcrj"
      },
      "execution_count": 6,
      "outputs": []
    },
    {
      "cell_type": "code",
      "source": [
        "def qaoa_maxcut(n_layers=1):\n",
        "    print(\"\\np={:d}\".format(n_layers))\n",
        "\n",
        "    # initialize the parameters near zero\n",
        "    init_params = 0.01 * np.random.rand(2, n_layers, requires_grad=True)\n",
        "\n",
        "    # minimize the negative of the objective function\n",
        "    def objective(params):\n",
        "        gammas = params[0]\n",
        "        betas = params[1]\n",
        "        neg_obj = 0\n",
        "        for edge in graph:\n",
        "            # objective for the MaxCut problem\n",
        "            neg_obj -= 0.5 * (1 - circuit(gammas, betas, edge=edge, n_layers=n_layers))\n",
        "        return neg_obj\n",
        "\n",
        "    # initialize optimizer: Adagrad works well empirically\n",
        "    opt = qml.AdagradOptimizer(stepsize=0.5)\n",
        "\n",
        "    # optimize parameters in objective\n",
        "    params = init_params\n",
        "    steps = 30\n",
        "    for i in range(steps):\n",
        "        params = opt.step(objective, params)\n",
        "        if (i + 1) % 5 == 0:\n",
        "            print(\"Objective after step {:5d}: {: .7f}\".format(i + 1, -objective(params)))\n",
        "\n",
        "    # sample measured bitstrings 100 times\n",
        "    bit_strings = []\n",
        "    n_samples = 100\n",
        "    for i in range(0, n_samples):\n",
        "        bit_strings.append(bitstring_to_int(circuit(params[0], params[1], edge=None, n_layers=n_layers)))\n",
        "\n",
        "    # print optimal parameters and most frequently sampled bitstring\n",
        "    counts = np.bincount(np.array(bit_strings))\n",
        "    most_freq_bit_string = np.argmax(counts)\n",
        "    print(\"Optimized (gamma, beta) vectors:\\n{}\".format(params[:, :n_layers]))\n",
        "    print(\"Most frequently sampled bit string is: {:05b}\".format(most_freq_bit_string))\n",
        "\n",
        "    return -objective(params), bit_strings\n",
        "\n",
        "\n",
        "# perform qaoa on our graph with p=1,2 and\n",
        "# keep the bitstring sample lists\n",
        "bitstrings1 = qaoa_maxcut(n_layers=1)[1]\n",
        "#bitstrings2 = qaoa_maxcut(n_layers=2)[1]"
      ],
      "metadata": {
        "colab": {
          "base_uri": "https://localhost:8080/"
        },
        "id": "nfj4_hK3Fiaw",
        "outputId": "f1dcae7f-8477-43c7-c180-3fcebff80968"
      },
      "execution_count": 7,
      "outputs": [
        {
          "output_type": "stream",
          "name": "stdout",
          "text": [
            "\n",
            "p=1\n",
            "Objective after step     5:  3.0000000\n",
            "Objective after step    10:  6.0000000\n",
            "Objective after step    15:  2.0000000\n",
            "Objective after step    20:  2.0000000\n",
            "Objective after step    25:  4.0000000\n",
            "Objective after step    30:  4.0000000\n",
            "Optimized (gamma, beta) vectors:\n",
            "[[-2.34536209]\n",
            " [ 1.10318846]]\n",
            "Most frequently sampled bit string is: 10100\n"
          ]
        }
      ]
    },
    {
      "cell_type": "code",
      "source": [
        "import matplotlib.pyplot as plt\n",
        "\n",
        "numcompbasis = 2**n_wires\n",
        "xticks = range(0, numcompbasis)\n",
        "xtick_labels = list(map(lambda x: format(x, \"05b\"), xticks))\n",
        "bins = np.arange(0, 33) - 0.5\n",
        "\n",
        "fig, ax = plt.subplots(1, 1, figsize=(8, 4))\n",
        "plt.subplot(1, 1, 1)\n",
        "plt.title(\"n_layers=1\")\n",
        "plt.xlabel(\"bitstrings\")\n",
        "plt.ylabel(\"freq.\")\n",
        "plt.xticks(xticks, xtick_labels, rotation=\"vertical\")\n",
        "plt.hist(bitstrings1, bins=bins)\n"
      ],
      "metadata": {
        "colab": {
          "base_uri": "https://localhost:8080/",
          "height": 431
        },
        "id": "FkoxMrYtPxAc",
        "outputId": "e6da026b-f281-4068-d188-c41f3fd931ab"
      },
      "execution_count": 8,
      "outputs": [
        {
          "output_type": "execute_result",
          "data": {
            "text/plain": [
              "(array([ 0.,  3.,  3.,  1.,  2.,  0.,  3.,  0.,  2.,  3.,  0., 13.,  6.,\n",
              "         5.,  0.,  0.,  0.,  0., 12.,  2., 17.,  0.,  6.,  4.,  0.,  3.,\n",
              "         1.,  4.,  3.,  5.,  2.,  0.]),\n",
              " array([-0.5,  0.5,  1.5,  2.5,  3.5,  4.5,  5.5,  6.5,  7.5,  8.5,  9.5,\n",
              "        10.5, 11.5, 12.5, 13.5, 14.5, 15.5, 16.5, 17.5, 18.5, 19.5, 20.5,\n",
              "        21.5, 22.5, 23.5, 24.5, 25.5, 26.5, 27.5, 28.5, 29.5, 30.5, 31.5]),\n",
              " <a list of 32 Patch objects>)"
            ]
          },
          "metadata": {},
          "execution_count": 8
        },
        {
          "output_type": "display_data",
          "data": {
            "text/plain": [
              "<Figure size 576x288 with 1 Axes>"
            ],
            "image/png": "[encoded data removed]"
          },
          "metadata": {
            "needs_background": "light"
          }
        }
      ]
    }
  ]
}