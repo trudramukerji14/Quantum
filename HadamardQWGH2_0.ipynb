{
  "nbformat": 4,
  "nbformat_minor": 0,
  "metadata": {
    "colab": {
      "provenance": [],
      "authorship_tag": "ABX9TyO0lUSNtdYiDX7ewr6AtpbM",
      "include_colab_link": true
    },
    "kernelspec": {
      "display_name": "Python 3",
      "name": "python3"
    }
  },
  "cells": [
    {
      "cell_type": "markdown",
      "metadata": {
        "id": "view-in-github",
        "colab_type": "text"
      },
      "source": [
        "<a href=\"https://colab.research.google.com/github/trudramukerji14/Random/blob/master/HadamardQWGH2_0.ipynb\" target=\"_parent\"><img src=\"https://colab.research.google.com/assets/colab-badge.svg\" alt=\"Open In Colab\"/></a>"
      ]
    },
    {
      "cell_type": "markdown",
      "source": [
        "This is a numerical simulation of the Hadamard quantum random walk on the integers. To get started, we first import a few packages"
      ],
      "metadata": {
        "id": "oG1JqCjszBRL"
      }
    },
    {
      "cell_type": "code",
      "source": [
        "import numpy as np\n",
        "from scipy import linalg\n",
        "import matplotlib as plt\n",
        "import matplotlib.pyplot as plt\n",
        "import math"
      ],
      "metadata": {
        "id": "2ZLXlIcMy0E0"
      },
      "execution_count": 2,
      "outputs": []
    },
    {
      "cell_type": "markdown",
      "source": [
        "We first define the number of steps of the quantum walk with $N$, which gives us $P=2N+1$ possible points on the integer lattice since we are starting at $0$."
      ],
      "metadata": {
        "id": "2N12cHRd3rK2"
      }
    },
    {
      "cell_type": "code",
      "metadata": {
        "colab": {
          "base_uri": "https://localhost:8080/",
          "height": 297
        },
        "id": "pJVeElQHh4Q6",
        "outputId": "9f7227c1-1771-44ea-a231-b653dce2e4af"
      },
      "source": [
        "\n",
        "\n",
        "#Set number of steps and positions:\n",
        "\n",
        "N = 100\n",
        "P = 2*N+1 #Number of possible positions\n",
        "\n",
        "\n",
        "\n",
        "#define coin operator\n",
        "\n",
        "r = 1/(math.sqrt(2))\n",
        "#print(r)\n",
        "\n",
        "\n",
        "\n",
        "c0 = np.array([1,0]) #These are the basis vectors for the coin space\n",
        "c1 = np.array([0,1])\n",
        "\n",
        "\n",
        "C00 = np.outer(c0, c0)\n",
        "C01 = np.outer(c0,c1)\n",
        "C10 = np.outer(c1, c0)\n",
        "C11 = np.outer(c1, c1)\n",
        "\n",
        "\n",
        "C= r*(C00+C01+C10-C11)\n",
        "#print(C)\n",
        "\n",
        "b = np.array([[1,0]])\n",
        "coin = np.kron(np.eye(P), C) #This is the coin operator\n",
        "\n",
        "#Define the evolution operator\n",
        "\n",
        "\n",
        "\n",
        "X = np.eye(P) #This is P by P identity matrix\n",
        "d  = np.roll(X, -1, axis=0) #the axis is now 0, so we shift along the columns\n",
        "u  = np.roll(X, 1, axis=0) \n",
        "Down = np.kron(d, C11) #S \\otimes P_{D}\n",
        "Up=np.kron(u, C00) #S otimes P_{U}\n",
        "S_hat = Up+Down #This is the shift operator\n",
        "\n",
        "U = S_hat.dot(coin) #This is the evolution operator\n",
        "\n",
        "#Define the initial state:\n",
        "\n",
        "pos = np.zeros(P)\n",
        "pos[N] = 1\n",
        "psi0 = np.kron(pos,c0)\n",
        "#psi0 = r*np.kron(pos,c0)+ r*1j*np.kron(pos,c1)\n",
        "Psi0 = psi0.reshape(2*P,1)\n",
        "\n",
        "\n",
        "\n",
        "#State after N steps:\n",
        "psiN = (np.linalg.matrix_power(U,N)).dot(Psi0)\n",
        "\n",
        "\n",
        "\n",
        "#Determine probability of outcome:\n",
        "prob = np.zeros(P)\n",
        "for k in range(P):\n",
        "    posn = np.zeros(P)\n",
        "    posn[k] = 1\n",
        "    Posn = posn.reshape(P,1)\n",
        "    A=np.matmul(Posn,Posn.T) #projection to Posn\n",
        "    M_hat_k = np.kron(A, np.eye(2))\n",
        "    proj = M_hat_k.dot(psiN)\n",
        "    prob[k] = np.matmul(proj.T, proj.conjugate()).real #norm squared of state\n",
        "\n",
        "#Information needed for plotting\n",
        "xval=np.arange(-N, N+1)\n",
        "x0 = xval[0::2]\n",
        "y0 = prob[0::2]\n",
        "\n",
        "#print(y0)\n",
        "\n",
        "print('Is this a probability distribution?',np.sum(y0))\n",
        "\n",
        "plt.plot(x0,y0, 'b-')\n",
        "plt.show #This plots the distribution of the quantum walk\n",
        "\n"
      ],
      "execution_count": 3,
      "outputs": [
        {
          "output_type": "stream",
          "name": "stdout",
          "text": [
            "Is this a probability distribution? 0.9999999999999786\n"
          ]
        },
        {
          "output_type": "execute_result",
          "data": {
            "text/plain": [
              "<function matplotlib.pyplot.show(*args, **kw)>"
            ]
          },
          "metadata": {},
          "execution_count": 3
        },
        {
          "output_type": "display_data",
          "data": {
            "text/plain": [
              "<Figure size 432x288 with 1 Axes>"
            ],
            "image/png": "[encoded data removed]"
          },
          "metadata": {
            "needs_background": "light"
          }
        }
      ]
    },
    {
      "cell_type": "code",
      "metadata": {
        "colab": {
          "base_uri": "https://localhost:8080/",
          "height": 224
        },
        "id": "5QkDcYK14vkk",
        "outputId": "d7b40067-7bd3-40e4-c33a-303c5135fc1e"
      },
      "source": [
        "#Flip Flop operator\n",
        "\n",
        "flip = C01 + C10\n",
        "flipop = np.kron(np.eye(P), flip)\n",
        "#S_flip = S_hat.dot(flipop)\n",
        "S_flip = flipop.dot(S_hat)\n",
        "S_hat.dot(np.kron(pos,c0))\n",
        "\n",
        "U_flip = S_flip.dot(coin) #This is the evolution operator with flip-flop\n",
        "\n",
        "#State after N steps:\n",
        "psiN = (np.linalg.matrix_power(U_flip,N)).dot(Psi0)\n",
        "\n",
        "#Determine probability of outcome:\n",
        "prob = np.zeros(P)\n",
        "for k in range(P):\n",
        "    posn = np.zeros(P)\n",
        "    posn[k] = 1\n",
        "    Posn = posn.reshape(P,1)\n",
        "    A=np.matmul(Posn,Posn.T) #projection to Posn\n",
        "    M_hat_k = np.kron(A, np.eye(2))\n",
        "    proj = M_hat_k.dot(psiN)\n",
        "    prob[k] = np.matmul(proj.T, proj.conjugate()).real #norm squared of state\n",
        "\n",
        "print(prob)\n",
        "\n",
        "#Information needed for plotting\n",
        "xval=np.arange(-N, N+1)\n",
        "x0=nonzeropos = xval[0::2]\n",
        "y0=probeven = prob[0::2]\n",
        "\n",
        "print('Is this a probability distribution?',np.sum(y0))\n",
        "\n",
        "#plot :)\n",
        "\n",
        "plt.plot(x0,y0, 'r-')\n",
        "plt.show\n",
        "\n",
        "\n"
      ],
      "execution_count": 1,
      "outputs": [
        {
          "output_type": "error",
          "ename": "NameError",
          "evalue": "ignored",
          "traceback": [
            "\u001b[0;31m---------------------------------------------------------------------------\u001b[0m",
            "\u001b[0;31mNameError\u001b[0m                                 Traceback (most recent call last)",
            "\u001b[0;32m<ipython-input-1-f79281b0fd6a>\u001b[0m in \u001b[0;36m<module>\u001b[0;34m\u001b[0m\n\u001b[1;32m      1\u001b[0m \u001b[0;31m#Flip Flop operator\u001b[0m\u001b[0;34m\u001b[0m\u001b[0;34m\u001b[0m\u001b[0;34m\u001b[0m\u001b[0m\n\u001b[1;32m      2\u001b[0m \u001b[0;34m\u001b[0m\u001b[0m\n\u001b[0;32m----> 3\u001b[0;31m \u001b[0mflip\u001b[0m \u001b[0;34m=\u001b[0m \u001b[0mC01\u001b[0m \u001b[0;34m+\u001b[0m \u001b[0mC10\u001b[0m\u001b[0;34m\u001b[0m\u001b[0;34m\u001b[0m\u001b[0m\n\u001b[0m\u001b[1;32m      4\u001b[0m \u001b[0mflipop\u001b[0m \u001b[0;34m=\u001b[0m \u001b[0mnp\u001b[0m\u001b[0;34m.\u001b[0m\u001b[0mkron\u001b[0m\u001b[0;34m(\u001b[0m\u001b[0mnp\u001b[0m\u001b[0;34m.\u001b[0m\u001b[0meye\u001b[0m\u001b[0;34m(\u001b[0m\u001b[0mP\u001b[0m\u001b[0;34m)\u001b[0m\u001b[0;34m,\u001b[0m \u001b[0mflip\u001b[0m\u001b[0;34m)\u001b[0m\u001b[0;34m\u001b[0m\u001b[0;34m\u001b[0m\u001b[0m\n\u001b[1;32m      5\u001b[0m \u001b[0;31m#S_flip = S_hat.dot(flipop)\u001b[0m\u001b[0;34m\u001b[0m\u001b[0;34m\u001b[0m\u001b[0;34m\u001b[0m\u001b[0m\n",
            "\u001b[0;31mNameError\u001b[0m: name 'C01' is not defined"
          ]
        }
      ]
    }
  ]
}